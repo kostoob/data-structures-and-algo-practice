{
 "cells": [
  {
   "cell_type": "code",
   "execution_count": 22,
   "metadata": {},
   "outputs": [],
   "source": [
    "class Node:\n",
    "    def __init__(self, data, next):\n",
    "        self.data = data\n",
    "        self.next = next\n",
    "\n",
    "    def countNodes(self):\n",
    "        flag = 0\n",
    "        no = Node(self.data, self.next)\n",
    "        while(no.next) != None:\n",
    "            flag += 1\n",
    "            no = no.next\n",
    "        return (flag+1)\n"
   ]
  },
  {
   "cell_type": "code",
   "execution_count": 23,
   "metadata": {},
   "outputs": [],
   "source": [
    "head = Node(4,None)\n",
    "nodeB = Node(2,None)\n",
    "nodeC = Node(3,None)\n",
    "nodeD = Node(10,None)\n",
    "nodeE = Node(2,None)\n",
    "\n",
    "head.next = nodeB\n",
    "nodeB.next = nodeC\n",
    "nodeC.next = nodeD\n",
    "nodeD.next = nodeE\n"
   ]
  },
  {
   "cell_type": "code",
   "execution_count": 24,
   "metadata": {},
   "outputs": [
    {
     "data": {
      "text/plain": [
       "5"
      ]
     },
     "execution_count": 24,
     "metadata": {},
     "output_type": "execute_result"
    }
   ],
   "source": [
    "head.countNodes()"
   ]
  },
  {
   "cell_type": "code",
   "execution_count": null,
   "metadata": {},
   "outputs": [],
   "source": []
  }
 ],
 "metadata": {
  "interpreter": {
   "hash": "d4708ca742e7491b7f7e869e4df9bb0e1b2bf8469ea81475ccf2d9d31c5f693b"
  },
  "kernelspec": {
   "display_name": "Python 3.8.8 64-bit ('base': conda)",
   "name": "python3"
  },
  "language_info": {
   "name": "python",
   "version": "3.8.8"
  },
  "orig_nbformat": 4
 },
 "nbformat": 4,
 "nbformat_minor": 2
}
